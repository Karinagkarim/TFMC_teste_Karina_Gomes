{
  "nbformat": 4,
  "nbformat_minor": 0,
  "metadata": {
    "colab": {
      "provenance": [],
      "collapsed_sections": [],
      "toc_visible": true,
      "authorship_tag": "ABX9TyPOhouGscN7CKrbQx4r9IpK",
      "include_colab_link": true
    },
    "kernelspec": {
      "name": "python3",
      "display_name": "Python 3"
    },
    "language_info": {
      "name": "python"
    }
  },
  "cells": [
    {
      "cell_type": "markdown",
      "metadata": {
        "id": "view-in-github",
        "colab_type": "text"
      },
      "source": [
        "<a href=\"https://colab.research.google.com/github/Karinagkarim/TechnipFMC-test---Karina/blob/main/CNQ_TFMC.ipynb\" target=\"_parent\"><img src=\"https://colab.research.google.com/assets/colab-badge.svg\" alt=\"Open In Colab\"/></a>"
      ]
    },
    {
      "cell_type": "markdown",
      "source": [
        "###Aplicação desenvolvida pela Engenharia da Qualidade Tech Center para análise da criticidade de QNs com base em Lógica Nebulosa/Fuzzy. \n",
        "\n",
        "Os parâmetros utilizados na análise são: CNQ ($), Tempo de processamento da QN (dias), Nível de maturidade do produto (TRL), Probabilidade de ocorrência (vezes) e Impacto no cronograma (turnos)"
      ],
      "metadata": {
        "id": "7WRBKHoImYrd"
      }
    },
    {
      "cell_type": "markdown",
      "source": [],
      "metadata": {
        "id": "pI6HPQVfkquN"
      }
    },
    {
      "cell_type": "code",
      "source": [
        "# Importando as bibliotecas \n",
        "# io = input / output\n",
        "import io\n",
        "import pandas as pd\n",
        "from google.colab import files"
      ],
      "metadata": {
        "id": "buJdZutQzM_p"
      },
      "execution_count": 1,
      "outputs": []
    },
    {
      "cell_type": "code",
      "source": [
        "# Instanciando o upload\n",
        "uploaded = files.upload()"
      ],
      "metadata": {
        "colab": {
          "base_uri": "https://localhost:8080/",
          "height": 90
        },
        "id": "fdueCItwzVX7",
        "outputId": "22445159-2b54-4901-dbd3-dbe4f4c5e110"
      },
      "execution_count": 2,
      "outputs": [
        {
          "output_type": "display_data",
          "data": {
            "text/plain": [
              "<IPython.core.display.HTML object>"
            ],
            "text/html": [
              "\n",
              "     <input type=\"file\" id=\"files-da3eac10-96dc-4446-b295-7cbbaa8d9121\" name=\"files[]\" multiple disabled\n",
              "        style=\"border:none\" />\n",
              "     <output id=\"result-da3eac10-96dc-4446-b295-7cbbaa8d9121\">\n",
              "      Upload widget is only available when the cell has been executed in the\n",
              "      current browser session. Please rerun this cell to enable.\n",
              "      </output>\n",
              "      <script>// Copyright 2017 Google LLC\n",
              "//\n",
              "// Licensed under the Apache License, Version 2.0 (the \"License\");\n",
              "// you may not use this file except in compliance with the License.\n",
              "// You may obtain a copy of the License at\n",
              "//\n",
              "//      http://www.apache.org/licenses/LICENSE-2.0\n",
              "//\n",
              "// Unless required by applicable law or agreed to in writing, software\n",
              "// distributed under the License is distributed on an \"AS IS\" BASIS,\n",
              "// WITHOUT WARRANTIES OR CONDITIONS OF ANY KIND, either express or implied.\n",
              "// See the License for the specific language governing permissions and\n",
              "// limitations under the License.\n",
              "\n",
              "/**\n",
              " * @fileoverview Helpers for google.colab Python module.\n",
              " */\n",
              "(function(scope) {\n",
              "function span(text, styleAttributes = {}) {\n",
              "  const element = document.createElement('span');\n",
              "  element.textContent = text;\n",
              "  for (const key of Object.keys(styleAttributes)) {\n",
              "    element.style[key] = styleAttributes[key];\n",
              "  }\n",
              "  return element;\n",
              "}\n",
              "\n",
              "// Max number of bytes which will be uploaded at a time.\n",
              "const MAX_PAYLOAD_SIZE = 100 * 1024;\n",
              "\n",
              "function _uploadFiles(inputId, outputId) {\n",
              "  const steps = uploadFilesStep(inputId, outputId);\n",
              "  const outputElement = document.getElementById(outputId);\n",
              "  // Cache steps on the outputElement to make it available for the next call\n",
              "  // to uploadFilesContinue from Python.\n",
              "  outputElement.steps = steps;\n",
              "\n",
              "  return _uploadFilesContinue(outputId);\n",
              "}\n",
              "\n",
              "// This is roughly an async generator (not supported in the browser yet),\n",
              "// where there are multiple asynchronous steps and the Python side is going\n",
              "// to poll for completion of each step.\n",
              "// This uses a Promise to block the python side on completion of each step,\n",
              "// then passes the result of the previous step as the input to the next step.\n",
              "function _uploadFilesContinue(outputId) {\n",
              "  const outputElement = document.getElementById(outputId);\n",
              "  const steps = outputElement.steps;\n",
              "\n",
              "  const next = steps.next(outputElement.lastPromiseValue);\n",
              "  return Promise.resolve(next.value.promise).then((value) => {\n",
              "    // Cache the last promise value to make it available to the next\n",
              "    // step of the generator.\n",
              "    outputElement.lastPromiseValue = value;\n",
              "    return next.value.response;\n",
              "  });\n",
              "}\n",
              "\n",
              "/**\n",
              " * Generator function which is called between each async step of the upload\n",
              " * process.\n",
              " * @param {string} inputId Element ID of the input file picker element.\n",
              " * @param {string} outputId Element ID of the output display.\n",
              " * @return {!Iterable<!Object>} Iterable of next steps.\n",
              " */\n",
              "function* uploadFilesStep(inputId, outputId) {\n",
              "  const inputElement = document.getElementById(inputId);\n",
              "  inputElement.disabled = false;\n",
              "\n",
              "  const outputElement = document.getElementById(outputId);\n",
              "  outputElement.innerHTML = '';\n",
              "\n",
              "  const pickedPromise = new Promise((resolve) => {\n",
              "    inputElement.addEventListener('change', (e) => {\n",
              "      resolve(e.target.files);\n",
              "    });\n",
              "  });\n",
              "\n",
              "  const cancel = document.createElement('button');\n",
              "  inputElement.parentElement.appendChild(cancel);\n",
              "  cancel.textContent = 'Cancel upload';\n",
              "  const cancelPromise = new Promise((resolve) => {\n",
              "    cancel.onclick = () => {\n",
              "      resolve(null);\n",
              "    };\n",
              "  });\n",
              "\n",
              "  // Wait for the user to pick the files.\n",
              "  const files = yield {\n",
              "    promise: Promise.race([pickedPromise, cancelPromise]),\n",
              "    response: {\n",
              "      action: 'starting',\n",
              "    }\n",
              "  };\n",
              "\n",
              "  cancel.remove();\n",
              "\n",
              "  // Disable the input element since further picks are not allowed.\n",
              "  inputElement.disabled = true;\n",
              "\n",
              "  if (!files) {\n",
              "    return {\n",
              "      response: {\n",
              "        action: 'complete',\n",
              "      }\n",
              "    };\n",
              "  }\n",
              "\n",
              "  for (const file of files) {\n",
              "    const li = document.createElement('li');\n",
              "    li.append(span(file.name, {fontWeight: 'bold'}));\n",
              "    li.append(span(\n",
              "        `(${file.type || 'n/a'}) - ${file.size} bytes, ` +\n",
              "        `last modified: ${\n",
              "            file.lastModifiedDate ? file.lastModifiedDate.toLocaleDateString() :\n",
              "                                    'n/a'} - `));\n",
              "    const percent = span('0% done');\n",
              "    li.appendChild(percent);\n",
              "\n",
              "    outputElement.appendChild(li);\n",
              "\n",
              "    const fileDataPromise = new Promise((resolve) => {\n",
              "      const reader = new FileReader();\n",
              "      reader.onload = (e) => {\n",
              "        resolve(e.target.result);\n",
              "      };\n",
              "      reader.readAsArrayBuffer(file);\n",
              "    });\n",
              "    // Wait for the data to be ready.\n",
              "    let fileData = yield {\n",
              "      promise: fileDataPromise,\n",
              "      response: {\n",
              "        action: 'continue',\n",
              "      }\n",
              "    };\n",
              "\n",
              "    // Use a chunked sending to avoid message size limits. See b/62115660.\n",
              "    let position = 0;\n",
              "    do {\n",
              "      const length = Math.min(fileData.byteLength - position, MAX_PAYLOAD_SIZE);\n",
              "      const chunk = new Uint8Array(fileData, position, length);\n",
              "      position += length;\n",
              "\n",
              "      const base64 = btoa(String.fromCharCode.apply(null, chunk));\n",
              "      yield {\n",
              "        response: {\n",
              "          action: 'append',\n",
              "          file: file.name,\n",
              "          data: base64,\n",
              "        },\n",
              "      };\n",
              "\n",
              "      let percentDone = fileData.byteLength === 0 ?\n",
              "          100 :\n",
              "          Math.round((position / fileData.byteLength) * 100);\n",
              "      percent.textContent = `${percentDone}% done`;\n",
              "\n",
              "    } while (position < fileData.byteLength);\n",
              "  }\n",
              "\n",
              "  // All done.\n",
              "  yield {\n",
              "    response: {\n",
              "      action: 'complete',\n",
              "    }\n",
              "  };\n",
              "}\n",
              "\n",
              "scope.google = scope.google || {};\n",
              "scope.google.colab = scope.google.colab || {};\n",
              "scope.google.colab._files = {\n",
              "  _uploadFiles,\n",
              "  _uploadFilesContinue,\n",
              "};\n",
              "})(self);\n",
              "</script> "
            ]
          },
          "metadata": {}
        },
        {
          "output_type": "stream",
          "name": "stdout",
          "text": [
            "Saving Compilado CNQ_Qualidade TC_TFMC.xlsx to Compilado CNQ_Qualidade TC_TFMC (2).xlsx\n"
          ]
        }
      ]
    },
    {
      "cell_type": "code",
      "source": [
        "# Acessando o arquivo com panda \n",
        "# Obs.: Deve-se incluir o mesmo nome do arquivo escolhido acima, na etapa de upload \n",
        "df = pd.read_excel(io.BytesIO(uploaded.get('Compilado CNQ_Qualidade TC_TFMC.xlsx')))\n",
        "df\n"
      ],
      "metadata": {
        "colab": {
          "base_uri": "https://localhost:8080/",
          "height": 250
        },
        "id": "lttdAtj5z0Vs",
        "outputId": "31ef0e62-ad0a-4f1e-dc8c-ff8a5e80e7cd"
      },
      "execution_count": 3,
      "outputs": [
        {
          "output_type": "execute_result",
          "data": {
            "text/plain": [
              "          qn  trl   custo  tempo_de_processamento  \\\n",
              "0  200755227    7  200000                      10   \n",
              "1  200755228    8    5000                      30   \n",
              "2  200755229    7      10                      15   \n",
              "3  200755230    9  110000                      40   \n",
              "4  200755231    9       0                      45   \n",
              "\n",
              "   probabilidade_de_ocorrência  impacto_no_cronograma  \n",
              "0                            5                      4  \n",
              "1                           10                     20  \n",
              "2                            2                      2  \n",
              "3                           15                     10  \n",
              "4                           25                      0  "
            ],
            "text/html": [
              "\n",
              "  <div id=\"df-e820aa68-95a8-48b3-9cbd-6090ebbd3850\">\n",
              "    <div class=\"colab-df-container\">\n",
              "      <div>\n",
              "<style scoped>\n",
              "    .dataframe tbody tr th:only-of-type {\n",
              "        vertical-align: middle;\n",
              "    }\n",
              "\n",
              "    .dataframe tbody tr th {\n",
              "        vertical-align: top;\n",
              "    }\n",
              "\n",
              "    .dataframe thead th {\n",
              "        text-align: right;\n",
              "    }\n",
              "</style>\n",
              "<table border=\"1\" class=\"dataframe\">\n",
              "  <thead>\n",
              "    <tr style=\"text-align: right;\">\n",
              "      <th></th>\n",
              "      <th>qn</th>\n",
              "      <th>trl</th>\n",
              "      <th>custo</th>\n",
              "      <th>tempo_de_processamento</th>\n",
              "      <th>probabilidade_de_ocorrência</th>\n",
              "      <th>impacto_no_cronograma</th>\n",
              "    </tr>\n",
              "  </thead>\n",
              "  <tbody>\n",
              "    <tr>\n",
              "      <th>0</th>\n",
              "      <td>200755227</td>\n",
              "      <td>7</td>\n",
              "      <td>200000</td>\n",
              "      <td>10</td>\n",
              "      <td>5</td>\n",
              "      <td>4</td>\n",
              "    </tr>\n",
              "    <tr>\n",
              "      <th>1</th>\n",
              "      <td>200755228</td>\n",
              "      <td>8</td>\n",
              "      <td>5000</td>\n",
              "      <td>30</td>\n",
              "      <td>10</td>\n",
              "      <td>20</td>\n",
              "    </tr>\n",
              "    <tr>\n",
              "      <th>2</th>\n",
              "      <td>200755229</td>\n",
              "      <td>7</td>\n",
              "      <td>10</td>\n",
              "      <td>15</td>\n",
              "      <td>2</td>\n",
              "      <td>2</td>\n",
              "    </tr>\n",
              "    <tr>\n",
              "      <th>3</th>\n",
              "      <td>200755230</td>\n",
              "      <td>9</td>\n",
              "      <td>110000</td>\n",
              "      <td>40</td>\n",
              "      <td>15</td>\n",
              "      <td>10</td>\n",
              "    </tr>\n",
              "    <tr>\n",
              "      <th>4</th>\n",
              "      <td>200755231</td>\n",
              "      <td>9</td>\n",
              "      <td>0</td>\n",
              "      <td>45</td>\n",
              "      <td>25</td>\n",
              "      <td>0</td>\n",
              "    </tr>\n",
              "  </tbody>\n",
              "</table>\n",
              "</div>\n",
              "      <button class=\"colab-df-convert\" onclick=\"convertToInteractive('df-e820aa68-95a8-48b3-9cbd-6090ebbd3850')\"\n",
              "              title=\"Convert this dataframe to an interactive table.\"\n",
              "              style=\"display:none;\">\n",
              "        \n",
              "  <svg xmlns=\"http://www.w3.org/2000/svg\" height=\"24px\"viewBox=\"0 0 24 24\"\n",
              "       width=\"24px\">\n",
              "    <path d=\"M0 0h24v24H0V0z\" fill=\"none\"/>\n",
              "    <path d=\"M18.56 5.44l.94 2.06.94-2.06 2.06-.94-2.06-.94-.94-2.06-.94 2.06-2.06.94zm-11 1L8.5 8.5l.94-2.06 2.06-.94-2.06-.94L8.5 2.5l-.94 2.06-2.06.94zm10 10l.94 2.06.94-2.06 2.06-.94-2.06-.94-.94-2.06-.94 2.06-2.06.94z\"/><path d=\"M17.41 7.96l-1.37-1.37c-.4-.4-.92-.59-1.43-.59-.52 0-1.04.2-1.43.59L10.3 9.45l-7.72 7.72c-.78.78-.78 2.05 0 2.83L4 21.41c.39.39.9.59 1.41.59.51 0 1.02-.2 1.41-.59l7.78-7.78 2.81-2.81c.8-.78.8-2.07 0-2.86zM5.41 20L4 18.59l7.72-7.72 1.47 1.35L5.41 20z\"/>\n",
              "  </svg>\n",
              "      </button>\n",
              "      \n",
              "  <style>\n",
              "    .colab-df-container {\n",
              "      display:flex;\n",
              "      flex-wrap:wrap;\n",
              "      gap: 12px;\n",
              "    }\n",
              "\n",
              "    .colab-df-convert {\n",
              "      background-color: #E8F0FE;\n",
              "      border: none;\n",
              "      border-radius: 50%;\n",
              "      cursor: pointer;\n",
              "      display: none;\n",
              "      fill: #1967D2;\n",
              "      height: 32px;\n",
              "      padding: 0 0 0 0;\n",
              "      width: 32px;\n",
              "    }\n",
              "\n",
              "    .colab-df-convert:hover {\n",
              "      background-color: #E2EBFA;\n",
              "      box-shadow: 0px 1px 2px rgba(60, 64, 67, 0.3), 0px 1px 3px 1px rgba(60, 64, 67, 0.15);\n",
              "      fill: #174EA6;\n",
              "    }\n",
              "\n",
              "    [theme=dark] .colab-df-convert {\n",
              "      background-color: #3B4455;\n",
              "      fill: #D2E3FC;\n",
              "    }\n",
              "\n",
              "    [theme=dark] .colab-df-convert:hover {\n",
              "      background-color: #434B5C;\n",
              "      box-shadow: 0px 1px 3px 1px rgba(0, 0, 0, 0.15);\n",
              "      filter: drop-shadow(0px 1px 2px rgba(0, 0, 0, 0.3));\n",
              "      fill: #FFFFFF;\n",
              "    }\n",
              "  </style>\n",
              "\n",
              "      <script>\n",
              "        const buttonEl =\n",
              "          document.querySelector('#df-e820aa68-95a8-48b3-9cbd-6090ebbd3850 button.colab-df-convert');\n",
              "        buttonEl.style.display =\n",
              "          google.colab.kernel.accessAllowed ? 'block' : 'none';\n",
              "\n",
              "        async function convertToInteractive(key) {\n",
              "          const element = document.querySelector('#df-e820aa68-95a8-48b3-9cbd-6090ebbd3850');\n",
              "          const dataTable =\n",
              "            await google.colab.kernel.invokeFunction('convertToInteractive',\n",
              "                                                     [key], {});\n",
              "          if (!dataTable) return;\n",
              "\n",
              "          const docLinkHtml = 'Like what you see? Visit the ' +\n",
              "            '<a target=\"_blank\" href=https://colab.research.google.com/notebooks/data_table.ipynb>data table notebook</a>'\n",
              "            + ' to learn more about interactive tables.';\n",
              "          element.innerHTML = '';\n",
              "          dataTable['output_type'] = 'display_data';\n",
              "          await google.colab.output.renderOutput(dataTable, element);\n",
              "          const docLink = document.createElement('div');\n",
              "          docLink.innerHTML = docLinkHtml;\n",
              "          element.appendChild(docLink);\n",
              "        }\n",
              "      </script>\n",
              "    </div>\n",
              "  </div>\n",
              "  "
            ]
          },
          "metadata": {},
          "execution_count": 3
        }
      ]
    },
    {
      "cell_type": "code",
      "source": [
        "# Acessando a variável Custo\n",
        "df['custo']"
      ],
      "metadata": {
        "colab": {
          "base_uri": "https://localhost:8080/"
        },
        "id": "yJsbDuPQ5e4j",
        "outputId": "428e2aa1-f43f-47ca-dde2-38b72577fea7"
      },
      "execution_count": 4,
      "outputs": [
        {
          "output_type": "execute_result",
          "data": {
            "text/plain": [
              "0    200000\n",
              "1      5000\n",
              "2        10\n",
              "3    110000\n",
              "4         0\n",
              "Name: custo, dtype: int64"
            ]
          },
          "metadata": {},
          "execution_count": 4
        }
      ]
    },
    {
      "cell_type": "code",
      "source": [
        "# Criando data frame (tipo de dado do Pandas) personalizado\n",
        "df_data = pd.DataFrame({\"qn\": df['qn'],\n",
        "                        \"trl\": df['trl'],\n",
        "                        \"custo\": df['custo'],\n",
        "                        \"tp\": df['tempo_de_processamento'],\n",
        "                        \"po\": df['probabilidade_de_ocorrência'],\n",
        "                        \"ic\": df['impacto_no_cronograma']})\n",
        "                       \n",
        "df_data.head()"
      ],
      "metadata": {
        "colab": {
          "base_uri": "https://localhost:8080/",
          "height": 206
        },
        "id": "h8SbzhOL440F",
        "outputId": "223dd6a4-bf24-4115-8b59-2a2327189175"
      },
      "execution_count": 5,
      "outputs": [
        {
          "output_type": "execute_result",
          "data": {
            "text/plain": [
              "          qn  trl   custo  tp  po  ic\n",
              "0  200755227    7  200000  10   5   4\n",
              "1  200755228    8    5000  30  10  20\n",
              "2  200755229    7      10  15   2   2\n",
              "3  200755230    9  110000  40  15  10\n",
              "4  200755231    9       0  45  25   0"
            ],
            "text/html": [
              "\n",
              "  <div id=\"df-e91eb13c-8e55-48a3-9c67-fcdb2926b6a2\">\n",
              "    <div class=\"colab-df-container\">\n",
              "      <div>\n",
              "<style scoped>\n",
              "    .dataframe tbody tr th:only-of-type {\n",
              "        vertical-align: middle;\n",
              "    }\n",
              "\n",
              "    .dataframe tbody tr th {\n",
              "        vertical-align: top;\n",
              "    }\n",
              "\n",
              "    .dataframe thead th {\n",
              "        text-align: right;\n",
              "    }\n",
              "</style>\n",
              "<table border=\"1\" class=\"dataframe\">\n",
              "  <thead>\n",
              "    <tr style=\"text-align: right;\">\n",
              "      <th></th>\n",
              "      <th>qn</th>\n",
              "      <th>trl</th>\n",
              "      <th>custo</th>\n",
              "      <th>tp</th>\n",
              "      <th>po</th>\n",
              "      <th>ic</th>\n",
              "    </tr>\n",
              "  </thead>\n",
              "  <tbody>\n",
              "    <tr>\n",
              "      <th>0</th>\n",
              "      <td>200755227</td>\n",
              "      <td>7</td>\n",
              "      <td>200000</td>\n",
              "      <td>10</td>\n",
              "      <td>5</td>\n",
              "      <td>4</td>\n",
              "    </tr>\n",
              "    <tr>\n",
              "      <th>1</th>\n",
              "      <td>200755228</td>\n",
              "      <td>8</td>\n",
              "      <td>5000</td>\n",
              "      <td>30</td>\n",
              "      <td>10</td>\n",
              "      <td>20</td>\n",
              "    </tr>\n",
              "    <tr>\n",
              "      <th>2</th>\n",
              "      <td>200755229</td>\n",
              "      <td>7</td>\n",
              "      <td>10</td>\n",
              "      <td>15</td>\n",
              "      <td>2</td>\n",
              "      <td>2</td>\n",
              "    </tr>\n",
              "    <tr>\n",
              "      <th>3</th>\n",
              "      <td>200755230</td>\n",
              "      <td>9</td>\n",
              "      <td>110000</td>\n",
              "      <td>40</td>\n",
              "      <td>15</td>\n",
              "      <td>10</td>\n",
              "    </tr>\n",
              "    <tr>\n",
              "      <th>4</th>\n",
              "      <td>200755231</td>\n",
              "      <td>9</td>\n",
              "      <td>0</td>\n",
              "      <td>45</td>\n",
              "      <td>25</td>\n",
              "      <td>0</td>\n",
              "    </tr>\n",
              "  </tbody>\n",
              "</table>\n",
              "</div>\n",
              "      <button class=\"colab-df-convert\" onclick=\"convertToInteractive('df-e91eb13c-8e55-48a3-9c67-fcdb2926b6a2')\"\n",
              "              title=\"Convert this dataframe to an interactive table.\"\n",
              "              style=\"display:none;\">\n",
              "        \n",
              "  <svg xmlns=\"http://www.w3.org/2000/svg\" height=\"24px\"viewBox=\"0 0 24 24\"\n",
              "       width=\"24px\">\n",
              "    <path d=\"M0 0h24v24H0V0z\" fill=\"none\"/>\n",
              "    <path d=\"M18.56 5.44l.94 2.06.94-2.06 2.06-.94-2.06-.94-.94-2.06-.94 2.06-2.06.94zm-11 1L8.5 8.5l.94-2.06 2.06-.94-2.06-.94L8.5 2.5l-.94 2.06-2.06.94zm10 10l.94 2.06.94-2.06 2.06-.94-2.06-.94-.94-2.06-.94 2.06-2.06.94z\"/><path d=\"M17.41 7.96l-1.37-1.37c-.4-.4-.92-.59-1.43-.59-.52 0-1.04.2-1.43.59L10.3 9.45l-7.72 7.72c-.78.78-.78 2.05 0 2.83L4 21.41c.39.39.9.59 1.41.59.51 0 1.02-.2 1.41-.59l7.78-7.78 2.81-2.81c.8-.78.8-2.07 0-2.86zM5.41 20L4 18.59l7.72-7.72 1.47 1.35L5.41 20z\"/>\n",
              "  </svg>\n",
              "      </button>\n",
              "      \n",
              "  <style>\n",
              "    .colab-df-container {\n",
              "      display:flex;\n",
              "      flex-wrap:wrap;\n",
              "      gap: 12px;\n",
              "    }\n",
              "\n",
              "    .colab-df-convert {\n",
              "      background-color: #E8F0FE;\n",
              "      border: none;\n",
              "      border-radius: 50%;\n",
              "      cursor: pointer;\n",
              "      display: none;\n",
              "      fill: #1967D2;\n",
              "      height: 32px;\n",
              "      padding: 0 0 0 0;\n",
              "      width: 32px;\n",
              "    }\n",
              "\n",
              "    .colab-df-convert:hover {\n",
              "      background-color: #E2EBFA;\n",
              "      box-shadow: 0px 1px 2px rgba(60, 64, 67, 0.3), 0px 1px 3px 1px rgba(60, 64, 67, 0.15);\n",
              "      fill: #174EA6;\n",
              "    }\n",
              "\n",
              "    [theme=dark] .colab-df-convert {\n",
              "      background-color: #3B4455;\n",
              "      fill: #D2E3FC;\n",
              "    }\n",
              "\n",
              "    [theme=dark] .colab-df-convert:hover {\n",
              "      background-color: #434B5C;\n",
              "      box-shadow: 0px 1px 3px 1px rgba(0, 0, 0, 0.15);\n",
              "      filter: drop-shadow(0px 1px 2px rgba(0, 0, 0, 0.3));\n",
              "      fill: #FFFFFF;\n",
              "    }\n",
              "  </style>\n",
              "\n",
              "      <script>\n",
              "        const buttonEl =\n",
              "          document.querySelector('#df-e91eb13c-8e55-48a3-9c67-fcdb2926b6a2 button.colab-df-convert');\n",
              "        buttonEl.style.display =\n",
              "          google.colab.kernel.accessAllowed ? 'block' : 'none';\n",
              "\n",
              "        async function convertToInteractive(key) {\n",
              "          const element = document.querySelector('#df-e91eb13c-8e55-48a3-9c67-fcdb2926b6a2');\n",
              "          const dataTable =\n",
              "            await google.colab.kernel.invokeFunction('convertToInteractive',\n",
              "                                                     [key], {});\n",
              "          if (!dataTable) return;\n",
              "\n",
              "          const docLinkHtml = 'Like what you see? Visit the ' +\n",
              "            '<a target=\"_blank\" href=https://colab.research.google.com/notebooks/data_table.ipynb>data table notebook</a>'\n",
              "            + ' to learn more about interactive tables.';\n",
              "          element.innerHTML = '';\n",
              "          dataTable['output_type'] = 'display_data';\n",
              "          await google.colab.output.renderOutput(dataTable, element);\n",
              "          const docLink = document.createElement('div');\n",
              "          docLink.innerHTML = docLinkHtml;\n",
              "          element.appendChild(docLink);\n",
              "        }\n",
              "      </script>\n",
              "    </div>\n",
              "  </div>\n",
              "  "
            ]
          },
          "metadata": {},
          "execution_count": 5
        }
      ]
    },
    {
      "cell_type": "code",
      "source": [
        "# Transformando o dat frame em lista (tipo de dado primitivo, da própria linguagem)\n",
        "valores_de_entrada = df_data.values.tolist()\n",
        "valores_de_entrada"
      ],
      "metadata": {
        "colab": {
          "base_uri": "https://localhost:8080/"
        },
        "id": "ltdt_rvx-uH1",
        "outputId": "83c4f0cf-3201-4964-9851-a3250ab9d7fd"
      },
      "execution_count": 6,
      "outputs": [
        {
          "output_type": "execute_result",
          "data": {
            "text/plain": [
              "[[200755227, 7, 200000, 10, 5, 4],\n",
              " [200755228, 8, 5000, 30, 10, 20],\n",
              " [200755229, 7, 10, 15, 2, 2],\n",
              " [200755230, 9, 110000, 40, 15, 10],\n",
              " [200755231, 9, 0, 45, 25, 0]]"
            ]
          },
          "metadata": {},
          "execution_count": 6
        }
      ]
    },
    {
      "cell_type": "markdown",
      "source": [
        "**07/09/2022 Próximos passos:**\n",
        "\n",
        "1) Criar funções de pertinência para cada variável - dão significado ao conjunto difuso. \n",
        "\n",
        "Entrada numérica -> palavras (conjunto difuso)\n",
        "\n",
        "2) Criar fluxo com regras de decisão para avaliação dos inputs \n",
        "\n",
        "3) Gerar as saídas correlacionando o output (criticidade da QN descrita em palavras) com o número da QN\n",
        "\n",
        "4) [Futuro] Apresentação gráfica das saídas \n",
        "\n",
        "**09/09/2022 Validação com o time:**\n",
        "\n",
        "Optamos por, no passo 2, fazer interações para todas as combinações possíveis com as variáveis do modelo. E trabalhar com os pesos associados a cada nível de criitcidade. "
      ],
      "metadata": {
        "id": "fqiyFuXd_R21"
      }
    },
    {
      "cell_type": "markdown",
      "source": [
        "Abaixo iremos definir o conjunto difuso, calculando a criticidade de cada variável. Para pertencer a cada nível do conjunto difuso, cada variável apresenta uma faixa diferente de pertencimento aos níveis do conjunto difuso. \n",
        "\n",
        "Conjunto difuso:\n",
        "\n",
        "Negligible = 1;\n",
        "Moderate = 2;\n",
        "Significant = 3;\n",
        "Substantial = 4; \n",
        "Critical = 5 "
      ],
      "metadata": {
        "id": "IJ_8D8wxcdtd"
      }
    },
    {
      "cell_type": "code",
      "source": [
        "# Calculando a criticidade da variável trl\n",
        "def criticidade_trl(trl):\n",
        "  criticidade = 5\n",
        "  if trl <= 2:\n",
        "    criticidade = 1\n",
        "  elif trl <= 4:\n",
        "    criticidade = 2\n",
        "  elif trl <= 6:\n",
        "    criticidade = 3\n",
        "  elif trl <= 8:\n",
        "    criticidade = 4\n",
        "  return criticidade\n",
        "\n",
        "criticidade_trl(valores_de_entrada[0][1])"
      ],
      "metadata": {
        "colab": {
          "base_uri": "https://localhost:8080/"
        },
        "id": "lpH-UvY3aSOu",
        "outputId": "1071679c-706b-4102-edb0-00c94d641c2c"
      },
      "execution_count": 7,
      "outputs": [
        {
          "output_type": "execute_result",
          "data": {
            "text/plain": [
              "4"
            ]
          },
          "metadata": {},
          "execution_count": 7
        }
      ]
    },
    {
      "cell_type": "code",
      "source": [
        "# Calculando a criticidade da variável custo \n",
        "def criticidade_custo(custo):\n",
        "  criticidade = 5\n",
        "  if custo < 5000:\n",
        "    criticidade = 1\n",
        "  elif custo < 20000:\n",
        "    criticidade = 2\n",
        "  elif custo < 50000:\n",
        "    criticidade = 3\n",
        "  elif custo <= 100000:\n",
        "    criticidade = 4\n",
        "  return criticidade\n",
        "\n",
        "criticidade_custo(valores_de_entrada[0][2])"
      ],
      "metadata": {
        "colab": {
          "base_uri": "https://localhost:8080/"
        },
        "id": "FyjROTiSVVhv",
        "outputId": "770a4352-4183-475b-95aa-f23127ee0919"
      },
      "execution_count": 8,
      "outputs": [
        {
          "output_type": "execute_result",
          "data": {
            "text/plain": [
              "5"
            ]
          },
          "metadata": {},
          "execution_count": 8
        }
      ]
    },
    {
      "cell_type": "code",
      "source": [
        "#Falta calcular a variável Tempo de processamento = tp"
      ],
      "metadata": {
        "id": "_WXLhEkoj4mv"
      },
      "execution_count": 9,
      "outputs": []
    },
    {
      "cell_type": "code",
      "source": [
        "# Calculando a criticidade da variável po = Probabilidade de ocorrência\n",
        "def criticidade_po(po):\n",
        "  criticidade = 5\n",
        "  if po < 5:\n",
        "    criticidade = 1\n",
        "  elif po <= 9:\n",
        "    criticidade = 2\n",
        "  elif po <= 14:\n",
        "    criticidade = 3\n",
        "  elif po <= 19:\n",
        "    criticidade = 4\n",
        "  return criticidade\n",
        "\n",
        "criticidade_po(valores_de_entrada[0][4])"
      ],
      "metadata": {
        "colab": {
          "base_uri": "https://localhost:8080/"
        },
        "id": "sHKRqv0oed7b",
        "outputId": "a4a651ed-79ee-4c0b-9b52-b1b3a0bf0b1a"
      },
      "execution_count": 10,
      "outputs": [
        {
          "output_type": "execute_result",
          "data": {
            "text/plain": [
              "2"
            ]
          },
          "metadata": {},
          "execution_count": 10
        }
      ]
    },
    {
      "cell_type": "code",
      "source": [
        "# Calculando a criticidade da variável ic = Impacto no cronograma\n",
        "def criticidade_ic(ic):\n",
        "  criticidade = 5\n",
        "  if ic < 12:\n",
        "    criticidade = 1\n",
        "  elif ic <= 23:\n",
        "    criticidade = 2\n",
        "  elif ic <= 35:\n",
        "    criticidade = 3\n",
        "  elif ic <= 47:\n",
        "    criticidade = 4\n",
        "  return criticidade\n",
        "\n",
        "criticidade_po(valores_de_entrada[0][5])"
      ],
      "metadata": {
        "colab": {
          "base_uri": "https://localhost:8080/"
        },
        "id": "xlVbIQX8gpd4",
        "outputId": "2c9f2839-2c4a-4fe4-93f1-891b13b43e34"
      },
      "execution_count": 11,
      "outputs": [
        {
          "output_type": "execute_result",
          "data": {
            "text/plain": [
              "1"
            ]
          },
          "metadata": {},
          "execution_count": 11
        }
      ]
    },
    {
      "cell_type": "code",
      "source": [
        "# Calculando as criticidades para as 5 variáveis de 1 QN\n",
        "def criticidade_variaveis_qn(qn):\n",
        "  return [qn[0], criticidade_trl(qn[1]), criticidade_custo(qn[2]),\n",
        "          0, criticidade_po(qn[4]), criticidade_ic(qn[5])]\n",
        "\n",
        "criticidade_variaveis_qn(valores_de_entrada[0])"
      ],
      "metadata": {
        "colab": {
          "base_uri": "https://localhost:8080/"
        },
        "id": "wbVtS99jlUNS",
        "outputId": "057508ae-5c21-473b-a5ec-a9926023bde6"
      },
      "execution_count": 12,
      "outputs": [
        {
          "output_type": "execute_result",
          "data": {
            "text/plain": [
              "[200755227, 4, 5, 0, 2, 1]"
            ]
          },
          "metadata": {},
          "execution_count": 12
        }
      ]
    },
    {
      "cell_type": "code",
      "source": [
        "# Calculando as criticidades para as 5 variáveis de todas as QNs do banco de dados\n",
        "criticidade_variaveis_todas_qns = []\n",
        "for qn in valores_de_entrada:\n",
        "  criticidade_variaveis_todas_qns.append(criticidade_variaveis_qn(qn))\n",
        "\n",
        "criticidade_variaveis_todas_qns"
      ],
      "metadata": {
        "colab": {
          "base_uri": "https://localhost:8080/"
        },
        "id": "QBN7ApNNoB0g",
        "outputId": "1f618796-57b5-480a-d9fb-b90bb4b80a28"
      },
      "execution_count": 13,
      "outputs": [
        {
          "output_type": "execute_result",
          "data": {
            "text/plain": [
              "[[200755227, 4, 5, 0, 2, 1],\n",
              " [200755228, 4, 2, 0, 3, 2],\n",
              " [200755229, 4, 1, 0, 1, 1],\n",
              " [200755230, 5, 5, 0, 4, 1],\n",
              " [200755231, 5, 1, 0, 5, 1]]"
            ]
          },
          "metadata": {},
          "execution_count": 13
        }
      ]
    },
    {
      "cell_type": "code",
      "source": [
        "# Criando o data frame com as criticidades calculadas para todo o banco de dados \n",
        "df_criticidade_variaveis_todas_qns=pd.DataFrame(criticidade_variaveis_todas_qns,\n",
        "               columns =[\"qn\", \"trl\", \"custo\" , \"tempo de processamento\",\n",
        "                         \"probabilidade de ocorencia\", \"impacto no cronograma\"])\n",
        "df_criticidade_variaveis_todas_qns"
      ],
      "metadata": {
        "colab": {
          "base_uri": "https://localhost:8080/",
          "height": 206
        },
        "id": "pDKHWkr0qo14",
        "outputId": "4a890e59-607d-4679-990f-667ab9428323"
      },
      "execution_count": 14,
      "outputs": [
        {
          "output_type": "execute_result",
          "data": {
            "text/plain": [
              "          qn  trl  custo  tempo de processamento  probabilidade de ocorencia  \\\n",
              "0  200755227    4      5                       0                           2   \n",
              "1  200755228    4      2                       0                           3   \n",
              "2  200755229    4      1                       0                           1   \n",
              "3  200755230    5      5                       0                           4   \n",
              "4  200755231    5      1                       0                           5   \n",
              "\n",
              "   impacto no cronograma  \n",
              "0                      1  \n",
              "1                      2  \n",
              "2                      1  \n",
              "3                      1  \n",
              "4                      1  "
            ],
            "text/html": [
              "\n",
              "  <div id=\"df-bbf7cce5-f903-42a7-87d3-1207f888ad6a\">\n",
              "    <div class=\"colab-df-container\">\n",
              "      <div>\n",
              "<style scoped>\n",
              "    .dataframe tbody tr th:only-of-type {\n",
              "        vertical-align: middle;\n",
              "    }\n",
              "\n",
              "    .dataframe tbody tr th {\n",
              "        vertical-align: top;\n",
              "    }\n",
              "\n",
              "    .dataframe thead th {\n",
              "        text-align: right;\n",
              "    }\n",
              "</style>\n",
              "<table border=\"1\" class=\"dataframe\">\n",
              "  <thead>\n",
              "    <tr style=\"text-align: right;\">\n",
              "      <th></th>\n",
              "      <th>qn</th>\n",
              "      <th>trl</th>\n",
              "      <th>custo</th>\n",
              "      <th>tempo de processamento</th>\n",
              "      <th>probabilidade de ocorencia</th>\n",
              "      <th>impacto no cronograma</th>\n",
              "    </tr>\n",
              "  </thead>\n",
              "  <tbody>\n",
              "    <tr>\n",
              "      <th>0</th>\n",
              "      <td>200755227</td>\n",
              "      <td>4</td>\n",
              "      <td>5</td>\n",
              "      <td>0</td>\n",
              "      <td>2</td>\n",
              "      <td>1</td>\n",
              "    </tr>\n",
              "    <tr>\n",
              "      <th>1</th>\n",
              "      <td>200755228</td>\n",
              "      <td>4</td>\n",
              "      <td>2</td>\n",
              "      <td>0</td>\n",
              "      <td>3</td>\n",
              "      <td>2</td>\n",
              "    </tr>\n",
              "    <tr>\n",
              "      <th>2</th>\n",
              "      <td>200755229</td>\n",
              "      <td>4</td>\n",
              "      <td>1</td>\n",
              "      <td>0</td>\n",
              "      <td>1</td>\n",
              "      <td>1</td>\n",
              "    </tr>\n",
              "    <tr>\n",
              "      <th>3</th>\n",
              "      <td>200755230</td>\n",
              "      <td>5</td>\n",
              "      <td>5</td>\n",
              "      <td>0</td>\n",
              "      <td>4</td>\n",
              "      <td>1</td>\n",
              "    </tr>\n",
              "    <tr>\n",
              "      <th>4</th>\n",
              "      <td>200755231</td>\n",
              "      <td>5</td>\n",
              "      <td>1</td>\n",
              "      <td>0</td>\n",
              "      <td>5</td>\n",
              "      <td>1</td>\n",
              "    </tr>\n",
              "  </tbody>\n",
              "</table>\n",
              "</div>\n",
              "      <button class=\"colab-df-convert\" onclick=\"convertToInteractive('df-bbf7cce5-f903-42a7-87d3-1207f888ad6a')\"\n",
              "              title=\"Convert this dataframe to an interactive table.\"\n",
              "              style=\"display:none;\">\n",
              "        \n",
              "  <svg xmlns=\"http://www.w3.org/2000/svg\" height=\"24px\"viewBox=\"0 0 24 24\"\n",
              "       width=\"24px\">\n",
              "    <path d=\"M0 0h24v24H0V0z\" fill=\"none\"/>\n",
              "    <path d=\"M18.56 5.44l.94 2.06.94-2.06 2.06-.94-2.06-.94-.94-2.06-.94 2.06-2.06.94zm-11 1L8.5 8.5l.94-2.06 2.06-.94-2.06-.94L8.5 2.5l-.94 2.06-2.06.94zm10 10l.94 2.06.94-2.06 2.06-.94-2.06-.94-.94-2.06-.94 2.06-2.06.94z\"/><path d=\"M17.41 7.96l-1.37-1.37c-.4-.4-.92-.59-1.43-.59-.52 0-1.04.2-1.43.59L10.3 9.45l-7.72 7.72c-.78.78-.78 2.05 0 2.83L4 21.41c.39.39.9.59 1.41.59.51 0 1.02-.2 1.41-.59l7.78-7.78 2.81-2.81c.8-.78.8-2.07 0-2.86zM5.41 20L4 18.59l7.72-7.72 1.47 1.35L5.41 20z\"/>\n",
              "  </svg>\n",
              "      </button>\n",
              "      \n",
              "  <style>\n",
              "    .colab-df-container {\n",
              "      display:flex;\n",
              "      flex-wrap:wrap;\n",
              "      gap: 12px;\n",
              "    }\n",
              "\n",
              "    .colab-df-convert {\n",
              "      background-color: #E8F0FE;\n",
              "      border: none;\n",
              "      border-radius: 50%;\n",
              "      cursor: pointer;\n",
              "      display: none;\n",
              "      fill: #1967D2;\n",
              "      height: 32px;\n",
              "      padding: 0 0 0 0;\n",
              "      width: 32px;\n",
              "    }\n",
              "\n",
              "    .colab-df-convert:hover {\n",
              "      background-color: #E2EBFA;\n",
              "      box-shadow: 0px 1px 2px rgba(60, 64, 67, 0.3), 0px 1px 3px 1px rgba(60, 64, 67, 0.15);\n",
              "      fill: #174EA6;\n",
              "    }\n",
              "\n",
              "    [theme=dark] .colab-df-convert {\n",
              "      background-color: #3B4455;\n",
              "      fill: #D2E3FC;\n",
              "    }\n",
              "\n",
              "    [theme=dark] .colab-df-convert:hover {\n",
              "      background-color: #434B5C;\n",
              "      box-shadow: 0px 1px 3px 1px rgba(0, 0, 0, 0.15);\n",
              "      filter: drop-shadow(0px 1px 2px rgba(0, 0, 0, 0.3));\n",
              "      fill: #FFFFFF;\n",
              "    }\n",
              "  </style>\n",
              "\n",
              "      <script>\n",
              "        const buttonEl =\n",
              "          document.querySelector('#df-bbf7cce5-f903-42a7-87d3-1207f888ad6a button.colab-df-convert');\n",
              "        buttonEl.style.display =\n",
              "          google.colab.kernel.accessAllowed ? 'block' : 'none';\n",
              "\n",
              "        async function convertToInteractive(key) {\n",
              "          const element = document.querySelector('#df-bbf7cce5-f903-42a7-87d3-1207f888ad6a');\n",
              "          const dataTable =\n",
              "            await google.colab.kernel.invokeFunction('convertToInteractive',\n",
              "                                                     [key], {});\n",
              "          if (!dataTable) return;\n",
              "\n",
              "          const docLinkHtml = 'Like what you see? Visit the ' +\n",
              "            '<a target=\"_blank\" href=https://colab.research.google.com/notebooks/data_table.ipynb>data table notebook</a>'\n",
              "            + ' to learn more about interactive tables.';\n",
              "          element.innerHTML = '';\n",
              "          dataTable['output_type'] = 'display_data';\n",
              "          await google.colab.output.renderOutput(dataTable, element);\n",
              "          const docLink = document.createElement('div');\n",
              "          docLink.innerHTML = docLinkHtml;\n",
              "          element.appendChild(docLink);\n",
              "        }\n",
              "      </script>\n",
              "    </div>\n",
              "  </div>\n",
              "  "
            ]
          },
          "metadata": {},
          "execution_count": 14
        }
      ]
    },
    {
      "cell_type": "code",
      "source": [
        "# Cosntruindo a base de referência para fazer as interações, compará-las e extrair o maior valor de cada dupla\n",
        "from itertools import combinations\n",
        " \n",
        "combination = lambda criticidades_qn : list(combinations(criticidades_qn,2))\n",
        "\n",
        "extrai_maior_valor_da_tupla = lambda tupla : tupla[0] if tupla[0] > tupla[1] else tupla[1]\n",
        "\n",
        "combinacao_criticidades = lambda criticidades_qn : list(\n",
        "    map(extrai_maior_valor_da_tupla, combination(criticidades_qn)))\n",
        "\n",
        "exemplo = [4,5,0,2,1]\n",
        "print(\"combination :\", combination(exemplo))\n",
        "print(\"extrai o maior valor da tupla :\", extrai_maior_valor_da_tupla((4,3)))\n",
        "print(\"Valor combindados extraidos :\", combinacao_criticidades(exemplo))"
      ],
      "metadata": {
        "colab": {
          "base_uri": "https://localhost:8080/"
        },
        "id": "TX-PbowqyQP3",
        "outputId": "d376c312-ce15-4db5-f21c-1b8c40c6ed68"
      },
      "execution_count": 15,
      "outputs": [
        {
          "output_type": "stream",
          "name": "stdout",
          "text": [
            "combination : [(4, 5), (4, 0), (4, 2), (4, 1), (5, 0), (5, 2), (5, 1), (0, 2), (0, 1), (2, 1)]\n",
            "extrai o maior valor da tupla : 4\n",
            "Valor combindados extraidos : [5, 4, 4, 4, 5, 5, 5, 2, 1, 2]\n"
          ]
        }
      ]
    },
    {
      "cell_type": "code",
      "source": [
        "# Calculando as interações e retornando o maior valor de criticidade de cada dupla\n",
        "interacao_criticidade_variaveis_todas_qns = []\n",
        "for qn in criticidade_variaveis_todas_qns:\n",
        "  interacao_criticidade_variaveis_todas_qns.append([qn[0]] + combinacao_criticidades(qn[1:len(qn)]))\n",
        "\n",
        "print(interacao_criticidade_variaveis_todas_qns)"
      ],
      "metadata": {
        "colab": {
          "base_uri": "https://localhost:8080/"
        },
        "id": "wOJqXTA65M_H",
        "outputId": "574ac604-e315-43ea-e2ff-e7543e8b5b53"
      },
      "execution_count": 16,
      "outputs": [
        {
          "output_type": "stream",
          "name": "stdout",
          "text": [
            "[[200755227, 5, 4, 4, 4, 5, 5, 5, 2, 1, 2], [200755228, 4, 4, 4, 4, 2, 3, 2, 3, 2, 3], [200755229, 4, 4, 4, 4, 1, 1, 1, 1, 1, 1], [200755230, 5, 5, 5, 5, 5, 5, 5, 4, 1, 4], [200755231, 5, 5, 5, 5, 1, 5, 1, 5, 1, 5]]\n"
          ]
        }
      ]
    },
    {
      "cell_type": "code",
      "source": [
        "# Criando combinações com as variáveis linguísticas para utilizar no data frame\n",
        "colunas= [\"qn\", \"trl\", \"custo\" , \"tempo de processamento\",\n",
        "                         \"probabilidade de ocorencia\", \"impacto no cronograma\"]\n",
        "combinacao = combination(colunas[1:len(colunas)])\n",
        "combinacao = list(map(lambda tupla : tupla[0]+\" x \"+ tupla[1], combinacao))\n",
        "colunas = [colunas[0]]+ combinacao"
      ],
      "metadata": {
        "id": "6kOzOa7H75yg"
      },
      "execution_count": 17,
      "outputs": []
    },
    {
      "cell_type": "code",
      "source": [
        "# Criando o data frame com as combinações das variáveis e seus respectivos resultados de criticidade \n",
        "df_criticidades_combinadas_qns = pd.DataFrame(interacao_criticidade_variaveis_todas_qns,\n",
        "               columns = colunas)\n",
        "df_criticidades_combinadas_qns"
      ],
      "metadata": {
        "colab": {
          "base_uri": "https://localhost:8080/",
          "height": 229
        },
        "id": "7ILmRQcb8a2R",
        "outputId": "e1d87253-f36b-4b4a-ccc3-ff5030d548fd"
      },
      "execution_count": 18,
      "outputs": [
        {
          "output_type": "execute_result",
          "data": {
            "text/plain": [
              "          qn  trl x custo  trl x tempo de processamento  \\\n",
              "0  200755227            5                             4   \n",
              "1  200755228            4                             4   \n",
              "2  200755229            4                             4   \n",
              "3  200755230            5                             5   \n",
              "4  200755231            5                             5   \n",
              "\n",
              "   trl x probabilidade de ocorencia  trl x impacto no cronograma  \\\n",
              "0                                 4                            4   \n",
              "1                                 4                            4   \n",
              "2                                 4                            4   \n",
              "3                                 5                            5   \n",
              "4                                 5                            5   \n",
              "\n",
              "   custo x tempo de processamento  custo x probabilidade de ocorencia  \\\n",
              "0                               5                                   5   \n",
              "1                               2                                   3   \n",
              "2                               1                                   1   \n",
              "3                               5                                   5   \n",
              "4                               1                                   5   \n",
              "\n",
              "   custo x impacto no cronograma  \\\n",
              "0                              5   \n",
              "1                              2   \n",
              "2                              1   \n",
              "3                              5   \n",
              "4                              1   \n",
              "\n",
              "   tempo de processamento x probabilidade de ocorencia  \\\n",
              "0                                                  2     \n",
              "1                                                  3     \n",
              "2                                                  1     \n",
              "3                                                  4     \n",
              "4                                                  5     \n",
              "\n",
              "   tempo de processamento x impacto no cronograma  \\\n",
              "0                                               1   \n",
              "1                                               2   \n",
              "2                                               1   \n",
              "3                                               1   \n",
              "4                                               1   \n",
              "\n",
              "   probabilidade de ocorencia x impacto no cronograma  \n",
              "0                                                  2   \n",
              "1                                                  3   \n",
              "2                                                  1   \n",
              "3                                                  4   \n",
              "4                                                  5   "
            ],
            "text/html": [
              "\n",
              "  <div id=\"df-62227615-7e25-4a8b-8e10-bfb705790e69\">\n",
              "    <div class=\"colab-df-container\">\n",
              "      <div>\n",
              "<style scoped>\n",
              "    .dataframe tbody tr th:only-of-type {\n",
              "        vertical-align: middle;\n",
              "    }\n",
              "\n",
              "    .dataframe tbody tr th {\n",
              "        vertical-align: top;\n",
              "    }\n",
              "\n",
              "    .dataframe thead th {\n",
              "        text-align: right;\n",
              "    }\n",
              "</style>\n",
              "<table border=\"1\" class=\"dataframe\">\n",
              "  <thead>\n",
              "    <tr style=\"text-align: right;\">\n",
              "      <th></th>\n",
              "      <th>qn</th>\n",
              "      <th>trl x custo</th>\n",
              "      <th>trl x tempo de processamento</th>\n",
              "      <th>trl x probabilidade de ocorencia</th>\n",
              "      <th>trl x impacto no cronograma</th>\n",
              "      <th>custo x tempo de processamento</th>\n",
              "      <th>custo x probabilidade de ocorencia</th>\n",
              "      <th>custo x impacto no cronograma</th>\n",
              "      <th>tempo de processamento x probabilidade de ocorencia</th>\n",
              "      <th>tempo de processamento x impacto no cronograma</th>\n",
              "      <th>probabilidade de ocorencia x impacto no cronograma</th>\n",
              "    </tr>\n",
              "  </thead>\n",
              "  <tbody>\n",
              "    <tr>\n",
              "      <th>0</th>\n",
              "      <td>200755227</td>\n",
              "      <td>5</td>\n",
              "      <td>4</td>\n",
              "      <td>4</td>\n",
              "      <td>4</td>\n",
              "      <td>5</td>\n",
              "      <td>5</td>\n",
              "      <td>5</td>\n",
              "      <td>2</td>\n",
              "      <td>1</td>\n",
              "      <td>2</td>\n",
              "    </tr>\n",
              "    <tr>\n",
              "      <th>1</th>\n",
              "      <td>200755228</td>\n",
              "      <td>4</td>\n",
              "      <td>4</td>\n",
              "      <td>4</td>\n",
              "      <td>4</td>\n",
              "      <td>2</td>\n",
              "      <td>3</td>\n",
              "      <td>2</td>\n",
              "      <td>3</td>\n",
              "      <td>2</td>\n",
              "      <td>3</td>\n",
              "    </tr>\n",
              "    <tr>\n",
              "      <th>2</th>\n",
              "      <td>200755229</td>\n",
              "      <td>4</td>\n",
              "      <td>4</td>\n",
              "      <td>4</td>\n",
              "      <td>4</td>\n",
              "      <td>1</td>\n",
              "      <td>1</td>\n",
              "      <td>1</td>\n",
              "      <td>1</td>\n",
              "      <td>1</td>\n",
              "      <td>1</td>\n",
              "    </tr>\n",
              "    <tr>\n",
              "      <th>3</th>\n",
              "      <td>200755230</td>\n",
              "      <td>5</td>\n",
              "      <td>5</td>\n",
              "      <td>5</td>\n",
              "      <td>5</td>\n",
              "      <td>5</td>\n",
              "      <td>5</td>\n",
              "      <td>5</td>\n",
              "      <td>4</td>\n",
              "      <td>1</td>\n",
              "      <td>4</td>\n",
              "    </tr>\n",
              "    <tr>\n",
              "      <th>4</th>\n",
              "      <td>200755231</td>\n",
              "      <td>5</td>\n",
              "      <td>5</td>\n",
              "      <td>5</td>\n",
              "      <td>5</td>\n",
              "      <td>1</td>\n",
              "      <td>5</td>\n",
              "      <td>1</td>\n",
              "      <td>5</td>\n",
              "      <td>1</td>\n",
              "      <td>5</td>\n",
              "    </tr>\n",
              "  </tbody>\n",
              "</table>\n",
              "</div>\n",
              "      <button class=\"colab-df-convert\" onclick=\"convertToInteractive('df-62227615-7e25-4a8b-8e10-bfb705790e69')\"\n",
              "              title=\"Convert this dataframe to an interactive table.\"\n",
              "              style=\"display:none;\">\n",
              "        \n",
              "  <svg xmlns=\"http://www.w3.org/2000/svg\" height=\"24px\"viewBox=\"0 0 24 24\"\n",
              "       width=\"24px\">\n",
              "    <path d=\"M0 0h24v24H0V0z\" fill=\"none\"/>\n",
              "    <path d=\"M18.56 5.44l.94 2.06.94-2.06 2.06-.94-2.06-.94-.94-2.06-.94 2.06-2.06.94zm-11 1L8.5 8.5l.94-2.06 2.06-.94-2.06-.94L8.5 2.5l-.94 2.06-2.06.94zm10 10l.94 2.06.94-2.06 2.06-.94-2.06-.94-.94-2.06-.94 2.06-2.06.94z\"/><path d=\"M17.41 7.96l-1.37-1.37c-.4-.4-.92-.59-1.43-.59-.52 0-1.04.2-1.43.59L10.3 9.45l-7.72 7.72c-.78.78-.78 2.05 0 2.83L4 21.41c.39.39.9.59 1.41.59.51 0 1.02-.2 1.41-.59l7.78-7.78 2.81-2.81c.8-.78.8-2.07 0-2.86zM5.41 20L4 18.59l7.72-7.72 1.47 1.35L5.41 20z\"/>\n",
              "  </svg>\n",
              "      </button>\n",
              "      \n",
              "  <style>\n",
              "    .colab-df-container {\n",
              "      display:flex;\n",
              "      flex-wrap:wrap;\n",
              "      gap: 12px;\n",
              "    }\n",
              "\n",
              "    .colab-df-convert {\n",
              "      background-color: #E8F0FE;\n",
              "      border: none;\n",
              "      border-radius: 50%;\n",
              "      cursor: pointer;\n",
              "      display: none;\n",
              "      fill: #1967D2;\n",
              "      height: 32px;\n",
              "      padding: 0 0 0 0;\n",
              "      width: 32px;\n",
              "    }\n",
              "\n",
              "    .colab-df-convert:hover {\n",
              "      background-color: #E2EBFA;\n",
              "      box-shadow: 0px 1px 2px rgba(60, 64, 67, 0.3), 0px 1px 3px 1px rgba(60, 64, 67, 0.15);\n",
              "      fill: #174EA6;\n",
              "    }\n",
              "\n",
              "    [theme=dark] .colab-df-convert {\n",
              "      background-color: #3B4455;\n",
              "      fill: #D2E3FC;\n",
              "    }\n",
              "\n",
              "    [theme=dark] .colab-df-convert:hover {\n",
              "      background-color: #434B5C;\n",
              "      box-shadow: 0px 1px 3px 1px rgba(0, 0, 0, 0.15);\n",
              "      filter: drop-shadow(0px 1px 2px rgba(0, 0, 0, 0.3));\n",
              "      fill: #FFFFFF;\n",
              "    }\n",
              "  </style>\n",
              "\n",
              "      <script>\n",
              "        const buttonEl =\n",
              "          document.querySelector('#df-62227615-7e25-4a8b-8e10-bfb705790e69 button.colab-df-convert');\n",
              "        buttonEl.style.display =\n",
              "          google.colab.kernel.accessAllowed ? 'block' : 'none';\n",
              "\n",
              "        async function convertToInteractive(key) {\n",
              "          const element = document.querySelector('#df-62227615-7e25-4a8b-8e10-bfb705790e69');\n",
              "          const dataTable =\n",
              "            await google.colab.kernel.invokeFunction('convertToInteractive',\n",
              "                                                     [key], {});\n",
              "          if (!dataTable) return;\n",
              "\n",
              "          const docLinkHtml = 'Like what you see? Visit the ' +\n",
              "            '<a target=\"_blank\" href=https://colab.research.google.com/notebooks/data_table.ipynb>data table notebook</a>'\n",
              "            + ' to learn more about interactive tables.';\n",
              "          element.innerHTML = '';\n",
              "          dataTable['output_type'] = 'display_data';\n",
              "          await google.colab.output.renderOutput(dataTable, element);\n",
              "          const docLink = document.createElement('div');\n",
              "          docLink.innerHTML = docLinkHtml;\n",
              "          element.appendChild(docLink);\n",
              "        }\n",
              "      </script>\n",
              "    </div>\n",
              "  </div>\n",
              "  "
            ]
          },
          "metadata": {},
          "execution_count": 18
        }
      ]
    },
    {
      "cell_type": "markdown",
      "source": [
        "**17/09/2022 Próximos passos:**\n",
        "\n",
        "1) Definir como vamos tratar os subconjuntos derivados das combinações.\n",
        "\n",
        "Dúvidas:\n",
        "\n",
        "a) Como iremos trabalhar com o nível de TRL do equipamento associado à QN?\n",
        "\n",
        "b) Estamos basicamente considerando os valores mais críticos entre as variáveis, essa seria a melhor estratégia? Acredito que vai depender de como iremos trbalhar com as informações resultantes. Talvez um tempo avaliando os processamentos com nossos bancos de dados reais possa ser um bom indicativo do compartamento dos desvios. Poderíamos buscar pelas variáveis (ou combinações) que mais influenciaram nos desvios por tipo de equipamento e/ou por tipo de processo (SIT x Qualificação), por exemplo. \n",
        "\n",
        "2) Processar bancos de dados de SIT e qualificação para comparar "
      ],
      "metadata": {
        "id": "P-EeBzQgA9Tx"
      }
    }
  ]
}